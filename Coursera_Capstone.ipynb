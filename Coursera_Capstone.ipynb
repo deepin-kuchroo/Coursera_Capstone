{
    "cells": [
        {
            "metadata": {},
            "cell_type": "markdown",
            "source": "Applied Data Science Capstone Week 1 Peer graded Assignment: Capstone Project Notebook "
        },
        {
            "metadata": {
                "collapsed": true
            },
            "cell_type": "markdown",
            "source": " This notebook will be mainly used for the capstone project."
        },
        {
            "metadata": {},
            "cell_type": "code",
            "source": "## Import the pandas library as pd.\nimport pandas as pd",
            "execution_count": 1,
            "outputs": []
        },
        {
            "metadata": {},
            "cell_type": "code",
            "source": "## Import the Numpy library as np.\nimport numpy as np",
            "execution_count": 2,
            "outputs": []
        },
        {
            "metadata": {},
            "cell_type": "code",
            "source": "## Printing the following the statement: Hello Capstone Project Course!\nprint(\"Hello Capstone Project Course!\")",
            "execution_count": 3,
            "outputs": [
                {
                    "output_type": "stream",
                    "text": "Hello Capstone Project Course!\n",
                    "name": "stdout"
                }
            ]
        }
    ],
    "metadata": {
        "kernelspec": {
            "name": "python3",
            "display_name": "Python 3.7",
            "language": "python"
        },
        "language_info": {
            "name": "python",
            "version": "3.7.9",
            "mimetype": "text/x-python",
            "codemirror_mode": {
                "name": "ipython",
                "version": 3
            },
            "pygments_lexer": "ipython3",
            "nbconvert_exporter": "python",
            "file_extension": ".py"
        }
    },
    "nbformat": 4,
    "nbformat_minor": 1
}